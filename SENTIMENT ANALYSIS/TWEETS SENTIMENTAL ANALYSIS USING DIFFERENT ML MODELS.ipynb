{
 "cells": [
  {
   "cell_type": "code",
   "execution_count": 1,
   "id": "97ac3e99",
   "metadata": {},
   "outputs": [],
   "source": [
    "import pandas as pd\n",
    "import numpy as np\n"
   ]
  },
  {
   "cell_type": "code",
   "execution_count": 2,
   "id": "5b77eff4",
   "metadata": {},
   "outputs": [
    {
     "data": {
      "text/html": [
       "<div>\n",
       "<style scoped>\n",
       "    .dataframe tbody tr th:only-of-type {\n",
       "        vertical-align: middle;\n",
       "    }\n",
       "\n",
       "    .dataframe tbody tr th {\n",
       "        vertical-align: top;\n",
       "    }\n",
       "\n",
       "    .dataframe thead th {\n",
       "        text-align: right;\n",
       "    }\n",
       "</style>\n",
       "<table border=\"1\" class=\"dataframe\">\n",
       "  <thead>\n",
       "    <tr style=\"text-align: right;\">\n",
       "      <th></th>\n",
       "      <th>tweet_id</th>\n",
       "      <th>airline_sentiment</th>\n",
       "      <th>airline_sentiment_confidence</th>\n",
       "      <th>negativereason</th>\n",
       "      <th>negativereason_confidence</th>\n",
       "      <th>airline</th>\n",
       "      <th>airline_sentiment_gold</th>\n",
       "      <th>name</th>\n",
       "      <th>negativereason_gold</th>\n",
       "      <th>retweet_count</th>\n",
       "      <th>text</th>\n",
       "      <th>tweet_coord</th>\n",
       "      <th>tweet_created</th>\n",
       "      <th>tweet_location</th>\n",
       "      <th>user_timezone</th>\n",
       "    </tr>\n",
       "  </thead>\n",
       "  <tbody>\n",
       "    <tr>\n",
       "      <th>0</th>\n",
       "      <td>570306133677760513</td>\n",
       "      <td>neutral</td>\n",
       "      <td>1.0</td>\n",
       "      <td>NaN</td>\n",
       "      <td>NaN</td>\n",
       "      <td>Virgin America</td>\n",
       "      <td>NaN</td>\n",
       "      <td>cairdin</td>\n",
       "      <td>NaN</td>\n",
       "      <td>0</td>\n",
       "      <td>@VirginAmerica What @dhepburn said.</td>\n",
       "      <td>NaN</td>\n",
       "      <td>2015-02-24 11:35:52 -0800</td>\n",
       "      <td>NaN</td>\n",
       "      <td>Eastern Time (US &amp; Canada)</td>\n",
       "    </tr>\n",
       "  </tbody>\n",
       "</table>\n",
       "</div>"
      ],
      "text/plain": [
       "             tweet_id airline_sentiment  airline_sentiment_confidence  \\\n",
       "0  570306133677760513           neutral                           1.0   \n",
       "\n",
       "  negativereason  negativereason_confidence         airline  \\\n",
       "0            NaN                        NaN  Virgin America   \n",
       "\n",
       "  airline_sentiment_gold     name negativereason_gold  retweet_count  \\\n",
       "0                    NaN  cairdin                 NaN              0   \n",
       "\n",
       "                                  text tweet_coord              tweet_created  \\\n",
       "0  @VirginAmerica What @dhepburn said.         NaN  2015-02-24 11:35:52 -0800   \n",
       "\n",
       "  tweet_location               user_timezone  \n",
       "0            NaN  Eastern Time (US & Canada)  "
      ]
     },
     "execution_count": 2,
     "metadata": {},
     "output_type": "execute_result"
    }
   ],
   "source": [
    "data=pd.read_csv('Tweets.csv')\n",
    "data.head(1)"
   ]
  },
  {
   "cell_type": "code",
   "execution_count": 3,
   "id": "d7eee182",
   "metadata": {},
   "outputs": [],
   "source": [
    "data1=data[['airline_sentiment','text']]"
   ]
  },
  {
   "cell_type": "code",
   "execution_count": 4,
   "id": "c7d58c92",
   "metadata": {},
   "outputs": [],
   "source": [
    "data1.columns=['SENTIMENT','TWEET']\n",
    "df=data1.copy()\n",
    "df=df.loc[(df['SENTIMENT']=='negative') | (df['SENTIMENT']=='positive')]"
   ]
  },
  {
   "cell_type": "code",
   "execution_count": 5,
   "id": "57fd9bf2",
   "metadata": {},
   "outputs": [
    {
     "data": {
      "text/plain": [
       "negative    9178\n",
       "positive    2363\n",
       "Name: SENTIMENT, dtype: int64"
      ]
     },
     "execution_count": 5,
     "metadata": {},
     "output_type": "execute_result"
    }
   ],
   "source": [
    "df['SENTIMENT'].value_counts()"
   ]
  },
  {
   "cell_type": "code",
   "execution_count": 6,
   "id": "d24b6b74",
   "metadata": {},
   "outputs": [
    {
     "data": {
      "text/plain": [
       "SENTIMENT    0\n",
       "TWEET        0\n",
       "dtype: int64"
      ]
     },
     "execution_count": 6,
     "metadata": {},
     "output_type": "execute_result"
    }
   ],
   "source": [
    "df.isnull().sum()"
   ]
  },
  {
   "cell_type": "code",
   "execution_count": 7,
   "id": "afd03b41",
   "metadata": {},
   "outputs": [],
   "source": [
    "import nltk\n",
    "import re\n",
    "from nltk.stem import WordNetLemmatizer\n",
    "from nltk.corpus import stopwords\n",
    "import string\n"
   ]
  },
  {
   "cell_type": "code",
   "execution_count": 8,
   "id": "a9c80d0a",
   "metadata": {},
   "outputs": [],
   "source": [
    "wnl=WordNetLemmatizer()"
   ]
  },
  {
   "cell_type": "code",
   "execution_count": 9,
   "id": "5bcd20a5",
   "metadata": {},
   "outputs": [],
   "source": [
    "pd.set_option('display.max_colwidth',None)\n",
    "pd.set_option('display.max_columns',None)"
   ]
  },
  {
   "cell_type": "code",
   "execution_count": 10,
   "id": "f3ea0e48",
   "metadata": {},
   "outputs": [
    {
     "data": {
      "text/plain": [
       "1                                                                    @VirginAmerica plus you've added commercials to the experience... tacky.\n",
       "3              @VirginAmerica it's really aggressive to blast obnoxious \"entertainment\" in your guests' faces &amp; they have little recourse\n",
       "4                                                                                     @VirginAmerica and it's a really big bad thing about it\n",
       "5    @VirginAmerica seriously would pay $30 a flight for seats that didn't have this playing.\\nit's really the only bad thing about flying VA\n",
       "6                                                             @VirginAmerica yes, nearly every time I fly VX this “ear worm” won’t go away :)\n",
       "Name: TWEET, dtype: object"
      ]
     },
     "execution_count": 10,
     "metadata": {},
     "output_type": "execute_result"
    }
   ],
   "source": [
    "df['TWEET'].head(5)"
   ]
  },
  {
   "cell_type": "code",
   "execution_count": 11,
   "id": "5b3f0872",
   "metadata": {},
   "outputs": [
    {
     "name": "stdout",
     "output_type": "stream",
     "text": [
      "['@VirginAmerica', 'plus', \"you've\", 'added', 'commercials', 'to', 'the', 'experience...', 'tacky.']\n",
      "@virginamerica plus added commercial experience... tacky.\n"
     ]
    }
   ],
   "source": [
    "x=df['TWEET'].iloc[0].split()\n",
    "print(x)\n",
    "s=set(stopwords.words('english'))\n",
    "l1=[]\n",
    "for i in x:\n",
    "    if i not in s:\n",
    "        l1.append(wnl.lemmatize(i.lower()))\n",
    "s1=' '.join(l1)\n",
    "print(s1)\n",
    "        "
   ]
  },
  {
   "cell_type": "code",
   "execution_count": 12,
   "id": "cee8542d",
   "metadata": {},
   "outputs": [],
   "source": [
    "def remove_mentionsandlinks(text):\n",
    "    text=re.sub(r'@[A-Za-z0-9]+','',text.lower())   #removing mentions\n",
    "    text=re.sub(r'#','',text)   #removing '#' symbol\n",
    "    text=re.sub(r'https?:\\/\\/\\S+','',text)  # removing links\n",
    "    text=re.sub(r'[^A-Za-z0-9]',' ',text)\n",
    "    return text"
   ]
  },
  {
   "cell_type": "code",
   "execution_count": 13,
   "id": "ddd26a8b",
   "metadata": {},
   "outputs": [],
   "source": [
    "df['TWEET']=df['TWEET'].apply(remove_mentionsandlinks)\n"
   ]
  },
  {
   "cell_type": "code",
   "execution_count": 14,
   "id": "2fb3c5d0",
   "metadata": {},
   "outputs": [
    {
     "data": {
      "text/html": [
       "<div>\n",
       "<style scoped>\n",
       "    .dataframe tbody tr th:only-of-type {\n",
       "        vertical-align: middle;\n",
       "    }\n",
       "\n",
       "    .dataframe tbody tr th {\n",
       "        vertical-align: top;\n",
       "    }\n",
       "\n",
       "    .dataframe thead th {\n",
       "        text-align: right;\n",
       "    }\n",
       "</style>\n",
       "<table border=\"1\" class=\"dataframe\">\n",
       "  <thead>\n",
       "    <tr style=\"text-align: right;\">\n",
       "      <th></th>\n",
       "      <th>SENTIMENT</th>\n",
       "      <th>TWEET</th>\n",
       "    </tr>\n",
       "  </thead>\n",
       "  <tbody>\n",
       "    <tr>\n",
       "      <th>1</th>\n",
       "      <td>positive</td>\n",
       "      <td>plus you ve added commercials to the experience    tacky</td>\n",
       "    </tr>\n",
       "  </tbody>\n",
       "</table>\n",
       "</div>"
      ],
      "text/plain": [
       "  SENTIMENT                                                       TWEET\n",
       "1  positive   plus you ve added commercials to the experience    tacky "
      ]
     },
     "execution_count": 14,
     "metadata": {},
     "output_type": "execute_result"
    }
   ],
   "source": [
    "df.head(1)"
   ]
  },
  {
   "cell_type": "code",
   "execution_count": 15,
   "id": "485e1765",
   "metadata": {},
   "outputs": [],
   "source": [
    "s=set(stopwords.words('english'))\n",
    "def stopwords_and_stemming(text):\n",
    "    l2=[]\n",
    "    for i in text.split():\n",
    "        \n",
    "        if i not in s:\n",
    "            l2.append(wnl.lemmatize(i))\n",
    "    s2=' '.join(l2)\n",
    "    return s2\n",
    "#removing stopwords and lemmatazing"
   ]
  },
  {
   "cell_type": "code",
   "execution_count": 16,
   "id": "83c58eb8",
   "metadata": {},
   "outputs": [],
   "source": [
    "df['TWEET']=df['TWEET'].apply(stopwords_and_stemming)"
   ]
  },
  {
   "cell_type": "code",
   "execution_count": 18,
   "id": "94ad0e65",
   "metadata": {},
   "outputs": [
    {
     "data": {
      "text/html": [
       "<div>\n",
       "<style scoped>\n",
       "    .dataframe tbody tr th:only-of-type {\n",
       "        vertical-align: middle;\n",
       "    }\n",
       "\n",
       "    .dataframe tbody tr th {\n",
       "        vertical-align: top;\n",
       "    }\n",
       "\n",
       "    .dataframe thead th {\n",
       "        text-align: right;\n",
       "    }\n",
       "</style>\n",
       "<table border=\"1\" class=\"dataframe\">\n",
       "  <thead>\n",
       "    <tr style=\"text-align: right;\">\n",
       "      <th></th>\n",
       "      <th>SENTIMENT</th>\n",
       "      <th>TWEET</th>\n",
       "    </tr>\n",
       "  </thead>\n",
       "  <tbody>\n",
       "    <tr>\n",
       "      <th>1</th>\n",
       "      <td>positive</td>\n",
       "      <td>plus added commercial experience tacky</td>\n",
       "    </tr>\n",
       "  </tbody>\n",
       "</table>\n",
       "</div>"
      ],
      "text/plain": [
       "  SENTIMENT                                   TWEET\n",
       "1  positive  plus added commercial experience tacky"
      ]
     },
     "execution_count": 18,
     "metadata": {},
     "output_type": "execute_result"
    }
   ],
   "source": [
    "df.head(1)"
   ]
  },
  {
   "cell_type": "code",
   "execution_count": 19,
   "id": "5a4dbeae",
   "metadata": {},
   "outputs": [],
   "source": [
    "from sklearn.preprocessing import LabelEncoder\n",
    "le=LabelEncoder()\n",
    "y=le.fit_transform(df['SENTIMENT'])"
   ]
  },
  {
   "cell_type": "code",
   "execution_count": 20,
   "id": "96b0114c",
   "metadata": {},
   "outputs": [],
   "source": [
    "from sklearn.feature_extraction.text import TfidfVectorizer\n",
    "tfidf=TfidfVectorizer()\n",
    "sparse=tfidf.fit_transform(df['TWEET'])"
   ]
  },
  {
   "cell_type": "code",
   "execution_count": 21,
   "id": "b08efa3c",
   "metadata": {},
   "outputs": [],
   "source": [
    "vector1=sparse.toarray()"
   ]
  },
  {
   "cell_type": "code",
   "execution_count": 22,
   "id": "41e10ea2",
   "metadata": {},
   "outputs": [],
   "source": [
    "from sklearn.model_selection import train_test_split\n",
    "x1_train,x1_test,y1_train,y1_test=train_test_split(vector1,y,test_size=0.15,random_state=0)"
   ]
  },
  {
   "cell_type": "code",
   "execution_count": 23,
   "id": "66a804a6",
   "metadata": {},
   "outputs": [
    {
     "name": "stdout",
     "output_type": "stream",
     "text": [
      "the roc_auc_score for training set is------->  0.9256989191751207\n",
      "the roc_auc_score for testing set is------->  0.8258365568513538\n"
     ]
    }
   ],
   "source": [
    "from sklearn.svm import SVC\n",
    "from sklearn.metrics import  roc_auc_score\n",
    "c1=SVC(kernel='linear',random_state=0)\n",
    "c1.fit(x1_train,y1_train)\n",
    "y1_train_pred=c1.predict(x1_train)\n",
    "y1_test_pred=c1.predict(x1_test)\n",
    "print('the roc_auc_score for training set is-------> ', roc_auc_score(y1_train,y1_train_pred))\n",
    "print('the roc_auc_score for testing set is-------> ', roc_auc_score(y1_test,y1_test_pred))"
   ]
  },
  {
   "cell_type": "code",
   "execution_count": 24,
   "id": "076fa7ab",
   "metadata": {},
   "outputs": [
    {
     "name": "stdout",
     "output_type": "stream",
     "text": [
      "the roc_auc_score for training set is------->  0.8166718975962602\n",
      "the roc_auc_score for testing set is------->  0.7725442544685868\n"
     ]
    }
   ],
   "source": [
    "from sklearn.linear_model import LogisticRegression\n",
    "lr=LogisticRegression()\n",
    "lr.fit(x1_train,y1_train)\n",
    "print('the roc_auc_score for training set is-------> ', roc_auc_score(y1_train,lr.predict(x1_train)))\n",
    "print('the roc_auc_score for testing set is-------> ', roc_auc_score(y1_test,lr.predict(x1_test)))"
   ]
  },
  {
   "cell_type": "code",
   "execution_count": 25,
   "id": "a55b8e1c",
   "metadata": {},
   "outputs": [
    {
     "name": "stdout",
     "output_type": "stream",
     "text": [
      "the roc_auc_score for training set is------->  0.6906677983336301\n",
      "the roc_auc_score for testing set is------->  0.6369972903960048\n"
     ]
    }
   ],
   "source": [
    "from sklearn.naive_bayes import MultinomialNB\n",
    "mnb=MultinomialNB()\n",
    "mnb.fit(x1_train,y1_train)\n",
    "print('the roc_auc_score for training set is-------> ', roc_auc_score(y1_train,mnb.predict(x1_train)))\n",
    "print('the roc_auc_score for testing set is-------> ', roc_auc_score(y1_test,mnb.predict(x1_test)))"
   ]
  },
  {
   "cell_type": "code",
   "execution_count": 26,
   "id": "9d6f14cd",
   "metadata": {},
   "outputs": [
    {
     "name": "stdout",
     "output_type": "stream",
     "text": [
      "the roc_auc_score for training set is------->  0.9006923964610848\n",
      "the roc_auc_score for testing set is------->  0.6759650524767506\n"
     ]
    }
   ],
   "source": [
    "from sklearn.naive_bayes import GaussianNB\n",
    "gnb=GaussianNB()\n",
    "gnb.fit(x1_train,y1_train)\n",
    "print('the roc_auc_score for training set is-------> ', roc_auc_score(y1_train,gnb.predict(x1_train)))\n",
    "print('the roc_auc_score for testing set is-------> ', roc_auc_score(y1_test,gnb.predict(x1_test)))"
   ]
  },
  {
   "cell_type": "markdown",
   "id": "e3383777",
   "metadata": {},
   "source": [
    "## SUPPORT VECTOR CLASSIFIER\n",
    "#### the roc_auc_score for training set is------->  0.9256989191751207\n",
    "#### the roc_auc_score for testing set is------->  0.8258365568513538\n",
    "\n",
    "## LogisticRegression\n",
    "#### the roc_auc_score for training set is------->  0.8166718975962602\n",
    "#### the roc_auc_score for testing set is------->  0.7725442544685868\n",
    "\n",
    "## MultinomialNB\n",
    "#### the roc_auc_score for training set is------->  0.6906677983336301\n",
    "#### the roc_auc_score for testing set is------->  0.6369972903960048\n",
    "\n",
    "## GaussianNB\n",
    "#### the roc_auc_score for training set is------->  0.9006923964610848\n",
    "#### the roc_auc_score for testing set is------->  0.6759650524767506"
   ]
  }
 ],
 "metadata": {
  "kernelspec": {
   "display_name": "Python 3 (ipykernel)",
   "language": "python",
   "name": "python3"
  },
  "language_info": {
   "codemirror_mode": {
    "name": "ipython",
    "version": 3
   },
   "file_extension": ".py",
   "mimetype": "text/x-python",
   "name": "python",
   "nbconvert_exporter": "python",
   "pygments_lexer": "ipython3",
   "version": "3.10.4"
  }
 },
 "nbformat": 4,
 "nbformat_minor": 5
}
